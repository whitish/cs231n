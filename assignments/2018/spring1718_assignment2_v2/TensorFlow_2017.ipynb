{
 "cells": [
  {
   "cell_type": "markdown",
   "metadata": {},
   "source": [
    "## What's this TensorFlow business?\n",
    "\n",
    "You've written a lot of code in this assignment to provide a whole host of neural network functionality. Dropout, Batch Norm, and 2D convolutions are some of the workhorses of deep learning in computer vision. You've also worked hard to make your code efficient and vectorized.\n",
    "\n",
    "For the last part of this assignment, though, we're going to leave behind your beautiful codebase and instead migrate to one of two popular deep learning frameworks: in this instance, TensorFlow (or PyTorch, if you switch over to that notebook)\n",
    "\n",
    "#### What is it?\n",
    "TensorFlow is a system for executing computational graphs over Tensor objects, with native support for performing backpropogation for its Variables. In it, we work with Tensors which are n-dimensional arrays analogous to the numpy ndarray.\n",
    "\n",
    "#### Why?\n",
    "\n",
    "* Our code will now run on GPUs! Much faster training. Writing your own modules to run on GPUs is beyond the scope of this class, unfortunately.\n",
    "* We want you to be ready to use one of these frameworks for your project so you can experiment more efficiently than if you were writing every feature you want to use by hand. \n",
    "* We want you to stand on the shoulders of giants! TensorFlow and PyTorch are both excellent frameworks that will make your lives a lot easier, and now that you understand their guts, you are free to use them :) \n",
    "* We want you to be exposed to the sort of deep learning code you might run into in academia or industry. "
   ]
  },
  {
   "cell_type": "markdown",
   "metadata": {},
   "source": [
    "## How will I learn TensorFlow?\n",
    "\n",
    "TensorFlow has many excellent tutorials available, including those from [Google themselves](https://www.tensorflow.org/get_started/get_started).\n",
    "\n",
    "Otherwise, this notebook will walk you through much of what you need to do to train models in TensorFlow. See the end of the notebook for some links to helpful tutorials if you want to learn more or need further clarification on topics that aren't fully explained here."
   ]
  },
  {
   "cell_type": "markdown",
   "metadata": {},
   "source": [
    "## Load Datasets\n"
   ]
  },
  {
   "cell_type": "code",
   "execution_count": 2,
   "metadata": {
    "collapsed": true
   },
   "outputs": [],
   "source": [
    "import tensorflow as tf\n",
    "import numpy as np\n",
    "import math\n",
    "import timeit\n",
    "import matplotlib.pyplot as plt\n",
    "%matplotlib inline"
   ]
  },
  {
   "cell_type": "code",
   "execution_count": 4,
   "metadata": {
    "collapsed": false
   },
   "outputs": [
    {
     "name": "stdout",
     "output_type": "stream",
     "text": [
      "Train data shape:  (49000, 32, 32, 3)\n",
      "Train labels shape:  (49000,)\n",
      "Validation data shape:  (1000, 32, 32, 3)\n",
      "Validation labels shape:  (1000,)\n",
      "Test data shape:  (10000, 32, 32, 3)\n",
      "Test labels shape:  (10000,)\n"
     ]
    }
   ],
   "source": [
    "from cs231n.data_utils import load_CIFAR10\n",
    "\n",
    "def get_CIFAR10_data(num_training=49000, num_validation=1000, num_test=10000):\n",
    "    \"\"\"\n",
    "    Load the CIFAR-10 dataset from disk and perform preprocessing to prepare\n",
    "    it for the two-layer neural net classifier. These are the same steps as\n",
    "    we used for the SVM, but condensed to a single function.  \n",
    "    \"\"\"\n",
    "    # Load the raw CIFAR-10 data\n",
    "    cifar10_dir = '/home/aleksei/IdeaProjects/cs231n.github.io/assignments/2018/assignment1/cs231n/datasets/cifar-10-batches-py'\n",
    "    X_train, y_train, X_test, y_test = load_CIFAR10(cifar10_dir)\n",
    "\n",
    "    # Subsample the data\n",
    "    mask = range(num_training, num_training + num_validation)\n",
    "    X_val = X_train[mask]\n",
    "    y_val = y_train[mask]\n",
    "    mask = range(num_training)\n",
    "    X_train = X_train[mask]\n",
    "    y_train = y_train[mask]\n",
    "    mask = range(num_test)\n",
    "    X_test = X_test[mask]\n",
    "    y_test = y_test[mask]\n",
    "\n",
    "    # Normalize the data: subtract the mean image\n",
    "    mean_image = np.mean(X_train, axis=0)\n",
    "    X_train -= mean_image\n",
    "    X_val -= mean_image\n",
    "    X_test -= mean_image\n",
    "\n",
    "    return X_train, y_train, X_val, y_val, X_test, y_test\n",
    "\n",
    "\n",
    "# Invoke the above function to get our data.\n",
    "X_train, y_train, X_val, y_val, X_test, y_test = get_CIFAR10_data()\n",
    "print('Train data shape: ', X_train.shape)\n",
    "print('Train labels shape: ', y_train.shape)\n",
    "print('Validation data shape: ', X_val.shape)\n",
    "print('Validation labels shape: ', y_val.shape)\n",
    "print('Test data shape: ', X_test.shape)\n",
    "print('Test labels shape: ', y_test.shape)"
   ]
  },
  {
   "cell_type": "markdown",
   "metadata": {},
   "source": [
    "## Example Model\n",
    "\n",
    "### Some useful utilities\n",
    "\n",
    ". Remember that our image data is initially N x H x W x C, where:\n",
    "* N is the number of datapoints\n",
    "* H is the height of each image in pixels\n",
    "* W is the height of each image in pixels\n",
    "* C is the number of channels (usually 3: R, G, B)\n",
    "\n",
    "This is the right way to represent the data when we are doing something like a 2D convolution, which needs spatial understanding of where the pixels are relative to each other. When we input image data into fully connected affine layers, however, we want each data example to be represented by a single vector -- it's no longer useful to segregate the different channels, rows, and columns of the data."
   ]
  },
  {
   "cell_type": "markdown",
   "metadata": {},
   "source": [
    "### The example model itself\n",
    "\n",
    "The first step to training your own model is defining its architecture.\n",
    "\n",
    "Here's an example of a convolutional neural network defined in TensorFlow -- try to understand what each line is doing, remembering that each layer is composed upon the previous layer. We haven't trained anything yet - that'll come next - for now, we want you to understand how everything gets set up. \n",
    "\n",
    "In that example, you see 2D convolutional layers (Conv2d), ReLU activations, and fully-connected layers (Linear). You also see the Hinge loss function, and the Adam optimizer being used. \n",
    "\n",
    "Make sure you understand why the parameters of the Linear layer are 5408 and 10.\n",
    "\n",
    "### TensorFlow Details\n",
    "In TensorFlow, much like in our previous notebooks, we'll first specifically initialize our variables, and then our network model."
   ]
  },
  {
   "cell_type": "code",
   "execution_count": 5,
   "metadata": {
    "collapsed": true
   },
   "outputs": [],
   "source": [
    "# clear old variables\n",
    "tf.reset_default_graph()\n",
    "\n",
    "# setup input (e.g. the data that changes every batch)\n",
    "# The first dim is None, and gets sets automatically based on batch size fed in\n",
    "X = tf.placeholder(tf.float32, [None, 32, 32, 3])\n",
    "y = tf.placeholder(tf.int64, [None])\n",
    "is_training = tf.placeholder(tf.bool)\n",
    "\n",
    "def simple_model(X,y):\n",
    "    # define our weights (e.g. init_two_layer_convnet)\n",
    "    \n",
    "    # setup variables\n",
    "    Wconv1 = tf.get_variable(\"Wconv1\", shape=[7, 7, 3, 32])\n",
    "    bconv1 = tf.get_variable(\"bconv1\", shape=[32])\n",
    "    W1 = tf.get_variable(\"W1\", shape=[5408, 10])\n",
    "    b1 = tf.get_variable(\"b1\", shape=[10])\n",
    "\n",
    "    # define our graph (e.g. two_layer_convnet)\n",
    "    a1 = tf.nn.conv2d(X, Wconv1, strides=[1,2,2,1], padding='VALID') + bconv1\n",
    "    h1 = tf.nn.relu(a1)\n",
    "    h1_flat = tf.reshape(h1,[-1,5408])\n",
    "    y_out = tf.matmul(h1_flat,W1) + b1\n",
    "    return y_out\n",
    "\n",
    "y_out = simple_model(X,y)\n",
    "\n",
    "# define our loss\n",
    "total_loss = tf.losses.hinge_loss(tf.one_hot(y,10),logits=y_out)\n",
    "mean_loss = tf.reduce_mean(total_loss)\n",
    "\n",
    "# define our optimizer\n",
    "optimizer = tf.train.AdamOptimizer(5e-4) # select optimizer and set learning rate\n",
    "train_step = optimizer.minimize(mean_loss)"
   ]
  },
  {
   "cell_type": "markdown",
   "metadata": {},
   "source": [
    "TensorFlow supports many other layer types, loss functions, and optimizers - you will experiment with these next. Here's the official API documentation for these (if any of the parameters used above were unclear, this resource will also be helpful). \n",
    "\n",
    "* Layers, Activations, Loss functions : https://www.tensorflow.org/api_guides/python/nn\n",
    "* Optimizers: https://www.tensorflow.org/api_guides/python/train#Optimizers\n",
    "* BatchNorm: https://www.tensorflow.org/api_docs/python/tf/layers/batch_normalization"
   ]
  },
  {
   "cell_type": "markdown",
   "metadata": {},
   "source": [
    "### Training the model on one epoch\n",
    "While we have defined a graph of operations above, in order to execute TensorFlow Graphs, by feeding them input data and computing the results, we first need to create a `tf.Session` object. A session encapsulates the control and state of the TensorFlow runtime. For more information, see the TensorFlow [Getting started](https://www.tensorflow.org/get_started/get_started) guide.\n",
    "\n",
    "Optionally we can also specify a device context such as `/cpu:0` or `/gpu:0`. For documentation on this behavior see [this TensorFlow guide](https://www.tensorflow.org/tutorials/using_gpu)\n",
    "\n",
    "You should see a validation loss of around 0.4 to 0.6 and an accuracy of 0.30 to 0.35 below"
   ]
  },
  {
   "cell_type": "code",
   "execution_count": 6,
   "metadata": {
    "collapsed": false
   },
   "outputs": [
    {
     "name": "stdout",
     "output_type": "stream",
     "text": [
      "Training\n",
      "Iteration 0: with minibatch training loss = 9.72 and accuracy of 0.062\n",
      "Iteration 100: with minibatch training loss = 0.97 and accuracy of 0.25\n",
      "Iteration 200: with minibatch training loss = 0.636 and accuracy of 0.34\n",
      "Iteration 300: with minibatch training loss = 0.62 and accuracy of 0.34\n",
      "Iteration 400: with minibatch training loss = 0.605 and accuracy of 0.38\n",
      "Iteration 500: with minibatch training loss = 0.522 and accuracy of 0.41\n",
      "Iteration 600: with minibatch training loss = 0.426 and accuracy of 0.38\n",
      "Iteration 700: with minibatch training loss = 0.434 and accuracy of 0.31\n",
      "Epoch 1, Overall loss = 0.742 and accuracy of 0.307\n"
     ]
    },
    {
     "data": {
      "image/png": "[encoded data removed]",
      "text/plain": [
       "<matplotlib.figure.Figure at 0x7f2a1db07390>"
      ]
     },
     "metadata": {},
     "output_type": "display_data"
    },
    {
     "name": "stdout",
     "output_type": "stream",
     "text": [
      "Validation\n",
      "Epoch 1, Overall loss = 0.433 and accuracy of 0.403\n"
     ]
    }
   ],
   "source": [
    "def run_model(session, predict, loss_val, Xd, yd,\n",
    "              epochs=1, batch_size=64, print_every=100,\n",
    "              training=None, plot_losses=False):\n",
    "    # have tensorflow compute accuracy\n",
    "    correct_prediction = tf.equal(tf.argmax(predict,1), y)\n",
    "    accuracy = tf.reduce_mean(tf.cast(correct_prediction, tf.float32))\n",
    "    \n",
    "    # shuffle indicies\n",
    "    train_indicies = np.arange(Xd.shape[0])\n",
    "    np.random.shuffle(train_indicies)\n",
    "\n",
    "    training_now = training is not None\n",
    "    \n",
    "    # setting up variables we want to compute (and optimizing)\n",
    "    # if we have a training function, add that to things we compute\n",
    "    variables = [mean_loss,correct_prediction,accuracy]\n",
    "    if training_now:\n",
    "        variables[-1] = training\n",
    "    \n",
    "    # counter \n",
    "    iter_cnt = 0\n",
    "    for e in range(epochs):\n",
    "        # keep track of losses and accuracy\n",
    "        correct = 0\n",
    "        losses = []\n",
    "        # make sure we iterate over the dataset once\n",
    "        for i in range(int(math.ceil(Xd.shape[0]/batch_size))):\n",
    "            # generate indicies for the batch\n",
    "            start_idx = (i*batch_size)%Xd.shape[0]\n",
    "            idx = train_indicies[start_idx:start_idx+batch_size]\n",
    "            \n",
    "            # create a feed dictionary for this batch\n",
    "            feed_dict = {X: Xd[idx,:],\n",
    "                         y: yd[idx],\n",
    "                         is_training: training_now }\n",
    "            # get batch size\n",
    "            actual_batch_size = yd[idx].shape[0]\n",
    "            \n",
    "            # have tensorflow compute loss and correct predictions\n",
    "            # and (if given) perform a training step\n",
    "            loss, corr, _ = session.run(variables,feed_dict=feed_dict)\n",
    "            \n",
    "            # aggregate performance stats\n",
    "            losses.append(loss*actual_batch_size)\n",
    "            correct += np.sum(corr)\n",
    "            \n",
    "            # print every now and then\n",
    "            if training_now and (iter_cnt % print_every) == 0:\n",
    "                print(\"Iteration {0}: with minibatch training loss = {1:.3g} and accuracy of {2:.2g}\"\\\n",
    "                      .format(iter_cnt,loss,np.sum(corr)/actual_batch_size))\n",
    "            iter_cnt += 1\n",
    "        total_correct = correct/Xd.shape[0]\n",
    "        total_loss = np.sum(losses)/Xd.shape[0]\n",
    "        print(\"Epoch {2}, Overall loss = {0:.3g} and accuracy of {1:.3g}\"\\\n",
    "              .format(total_loss,total_correct,e+1))\n",
    "        if plot_losses:\n",
    "            plt.plot(losses)\n",
    "            plt.grid(True)\n",
    "            plt.title('Epoch {} Loss'.format(e+1))\n",
    "            plt.xlabel('minibatch number')\n",
    "            plt.ylabel('minibatch loss')\n",
    "            plt.show()\n",
    "    return total_loss,total_correct\n",
    "\n",
    "with tf.Session() as sess:\n",
    "    with tf.device(\"/cpu:0\"): #\"/cpu:0\" or \"/gpu:0\" \n",
    "        sess.run(tf.global_variables_initializer())\n",
    "        print('Training')\n",
    "        run_model(sess,y_out,mean_loss,X_train,y_train,1,64,100,train_step,True)\n",
    "        print('Validation')\n",
    "        run_model(sess,y_out,mean_loss,X_val,y_val,1,64)"
   ]
  },
  {
   "cell_type": "markdown",
   "metadata": {},
   "source": [
    "## Training a specific model\n",
    "\n",
    "In this section, we're going to specify a model for you to construct. The goal here isn't to get good performance (that'll be next), but instead to get comfortable with understanding the TensorFlow documentation and configuring your own model. \n",
    "\n",
    "Using the code provided above as guidance, and using the following TensorFlow documentation, specify a model with the following architecture:\n",
    "\n",
    "* 7x7 Convolutional Layer with 32 filters and stride of 1\n",
    "* ReLU Activation Layer\n",
    "* Spatial Batch Normalization Layer (trainable parameters, with scale and centering)\n",
    "* 2x2 Max Pooling layer with a stride of 2\n",
    "* Affine layer with 1024 output units\n",
    "* ReLU Activation Layer\n",
    "* Affine layer from 1024 input units to 10 outputs\n",
    "\n"
   ]
  },
  {
   "cell_type": "code",
   "execution_count": 7,
   "metadata": {
    "collapsed": true
   },
   "outputs": [],
   "source": [
    "# clear old variables\n",
    "tf.reset_default_graph()\n",
    "\n",
    "# define our input (e.g. the data that changes every batch)\n",
    "# The first dim is None, and gets sets automatically based on batch size fed in\n",
    "X = tf.placeholder(tf.float32, [None, 32, 32, 3])\n",
    "y = tf.placeholder(tf.int64, [None])\n",
    "is_training = tf.placeholder(tf.bool)\n",
    "\n",
    "# define model\n",
    "def complex_model(X,y,is_training):\n",
    "    # setup variables\n",
    "    Wconv = tf.get_variable(\"Wconv\", shape=[7, 7, 3, 32])  # conv layer W shape\n",
    "    bconv = tf.get_variable(\"bconv\", shape=[32])\n",
    "\n",
    "    W1 = tf.get_variable(\"W1\", shape=[8192, 1024])  # affine1 layer W shape\n",
    "    b1 = tf.get_variable(\"b1\", shape=[1024])\n",
    "    W2 = tf.get_variable(\"W2\", shape=[1024, 10])  # affine2 layer W shape\n",
    "    b2 = tf.get_variable(\"b2\", shape=[10])\n",
    "\n",
    "    # define our graph (Conv – relu – sbn – pool_2x2 – affine – relu – affine)\n",
    "    # Input X shape (N, H, W, C) = (64, 32, 32, 3)\n",
    "    conv = tf.nn.conv2d(X, Wconv, strides=[1,1,1,1], padding='SAME') + bconv  # (N, Hconv, Wconv, C) (64, 32, 32, 32)\n",
    "    relu1 = tf.nn.relu(conv)  # (N, Hconv, Wconv, C) (64, 32, 32, 32)\n",
    "    conv_sbn = tf.layers.batch_normalization(relu1, training=is_training)\n",
    "    pool = tf.nn.max_pool(value=conv_sbn, ksize=[1,2,2,1], strides=[1,2,2,1], padding='VALID')  # (N, Hpool, Wpool, F) = (64, 16, 16, 32)\n",
    "    a1_flat = tf.reshape(pool, [-1, 8192])  # (N, D) = (64, 8192)\n",
    "    a1 = tf.matmul(a1_flat, W1) + b1  # affine layer  (N, hidden_dim) = (64, 1024)\n",
    "    relu2 = tf.nn.relu(a1)\n",
    "    y_out = tf.matmul(relu2, W2) + b2\n",
    "\n",
    "    return y_out\n",
    "\n",
    "y_out = complex_model(X,y,is_training)"
   ]
  },
  {
   "cell_type": "markdown",
   "metadata": {},
   "source": [
    "To make sure you're doing the right thing, use the following tool to check the dimensionality of your output (it should be 64 x 10, since our batches have size 64 and the output of the final affine layer should be 10, corresponding to our 10 classes):"
   ]
  },
  {
   "cell_type": "code",
   "execution_count": 8,
   "metadata": {
    "collapsed": false
   },
   "outputs": [
    {
     "name": "stdout",
     "output_type": "stream",
     "text": [
      "10 loops, best of 3: 115 ms per loop\n",
      "(64, 10)\n",
      "True\n"
     ]
    }
   ],
   "source": [
    "# Now we're going to feed a random batch into the model \n",
    "# and make sure the output is the right size\n",
    "x = np.random.randn(64, 32, 32,3)\n",
    "with tf.Session() as sess:\n",
    "    with tf.device(\"/cpu:0\"): #\"/cpu:0\" or \"/gpu:0\"\n",
    "        tf.global_variables_initializer().run()\n",
    "\n",
    "        ans = sess.run(y_out,feed_dict={X:x,is_training:True})\n",
    "        %timeit sess.run(y_out,feed_dict={X:x,is_training:True})\n",
    "        print(ans.shape)\n",
    "        print(np.array_equal(ans.shape, np.array([64, 10])))"
   ]
  },
  {
   "cell_type": "markdown",
   "metadata": {},
   "source": [
    "You should see the following from the run above \n",
    "\n",
    "`(64, 10)`\n",
    "\n",
    "`True`"
   ]
  },
  {
   "cell_type": "markdown",
   "metadata": {},
   "source": [
    "### GPU!\n",
    "\n",
    "Now, we're going to try and start the model under the GPU device, the rest of the code stays unchanged and all our variables and operations will be computed using accelerated code paths. However, if there is no GPU, we get a Python exception and have to rebuild our graph. On a dual-core CPU, you might see around 50-80ms/batch running the above, while the Google Cloud GPUs (run below) should be around 2-5ms/batch."
   ]
  },
  {
   "cell_type": "code",
   "execution_count": 9,
   "metadata": {
    "collapsed": false
   },
   "outputs": [
    {
     "name": "stdout",
     "output_type": "stream",
     "text": [
      "no gpu found, please use Google Cloud if you want GPU acceleration\n"
     ]
    }
   ],
   "source": [
    "try:\n",
    "    with tf.Session() as sess:\n",
    "        with tf.device(\"/gpu:0\") as dev: #\"/cpu:0\" or \"/gpu:0\"\n",
    "            tf.global_variables_initializer().run()\n",
    "\n",
    "            ans = sess.run(y_out,feed_dict={X:x,is_training:True})\n",
    "            %timeit sess.run(y_out,feed_dict={X:x,is_training:True})\n",
    "except tf.errors.InvalidArgumentError:\n",
    "    print(\"no gpu found, please use Google Cloud if you want GPU acceleration\")    \n",
    "    # rebuild the graph\n",
    "    # trying to start a GPU throws an exception \n",
    "    # and also trashes the original graph\n",
    "    tf.reset_default_graph()\n",
    "    X = tf.placeholder(tf.float32, [None, 32, 32, 3])\n",
    "    y = tf.placeholder(tf.int64, [None])\n",
    "    is_training = tf.placeholder(tf.bool)\n",
    "    y_out = complex_model(X,y,is_training)"
   ]
  },
  {
   "cell_type": "markdown",
   "metadata": {},
   "source": [
    "You should observe that even a simple forward pass like this is significantly faster on the GPU. So for the rest of the assignment (and when you go train your models in assignment 3 and your project!), you should use GPU devices. However, with TensorFlow, the default device is a GPU if one is available, and a CPU otherwise, so we can skip the device specification from now on."
   ]
  },
  {
   "cell_type": "markdown",
   "metadata": {},
   "source": [
    "### Train the model.\n",
    "\n",
    "Now that you've seen how to define a model and do a single forward pass of some data through it, let's  walk through how you'd actually train one whole epoch over your training data (using the complex_model you created provided above).\n",
    "\n",
    "Make sure you understand how each TensorFlow function used below corresponds to what you implemented in your custom neural network implementation.\n",
    "\n",
    "First, set up an **RMSprop optimizer** (using a 1e-3 learning rate) and a **cross-entropy loss** function. See the TensorFlow documentation for more information\n",
    "* Layers, Activations, Loss functions : https://www.tensorflow.org/api_guides/python/nn\n",
    "* Optimizers: https://www.tensorflow.org/api_guides/python/train#Optimizers"
   ]
  },
  {
   "cell_type": "code",
   "execution_count": 10,
   "metadata": {
    "collapsed": false
   },
   "outputs": [
    {
     "name": "stderr",
     "output_type": "stream",
     "text": [
      "WARNING:tensorflow:From /home/aleksei/IdeaProjects/cs231n/venv/lib/python3.4/site-packages/tensorflow/python/ops/losses/losses_impl.py:691: softmax_cross_entropy_with_logits (from tensorflow.python.ops.nn_ops) is deprecated and will be removed in a future version.\n",
      "Instructions for updating:\n",
      "\n",
      "Future major versions of TensorFlow will allow gradients to flow\n",
      "into the labels input on backprop by default.\n",
      "\n",
      "See tf.nn.softmax_cross_entropy_with_logits_v2.\n",
      "\n"
     ]
    }
   ],
   "source": [
    "# Inputs\n",
    "#     y_out: is what your model computes\n",
    "#     y: is your TensorFlow variable with label information\n",
    "# Outputs\n",
    "#    mean_loss: a TensorFlow variable (scalar) with numerical loss\n",
    "#    optimizer: a TensorFlow optimizer\n",
    "# This should be ~3 lines of code!\n",
    "mean_loss = None\n",
    "optimizer = None\n",
    "\n",
    "# define loss\n",
    "total_loss = tf.losses.softmax_cross_entropy(onehot_labels=tf.one_hot(y,10), logits=y_out)  # hinge_loss(tf.one_hot(y,10),logits=y_out)\n",
    "mean_loss = tf.reduce_mean(total_loss)\n",
    "\n",
    "# define optimizer\n",
    "optimizer = tf.train.RMSPropOptimizer(learning_rate=1e-3)  # AdamOptimizer(5e-4) # select optimizer and set learning rate\n",
    "train_step = optimizer.minimize(mean_loss)"
   ]
  },
  {
   "cell_type": "code",
   "execution_count": 11,
   "metadata": {
    "collapsed": true
   },
   "outputs": [],
   "source": [
    "# batch normalization in tensorflow requires this extra dependency\n",
    "extra_update_ops = tf.get_collection(tf.GraphKeys.UPDATE_OPS)\n",
    "with tf.control_dependencies(extra_update_ops):\n",
    "    train_step = optimizer.minimize(mean_loss)"
   ]
  },
  {
   "cell_type": "markdown",
   "metadata": {},
   "source": [
    "### Train the model\n",
    "Below we'll create a session and train the model over one epoch. You should see a loss of 1.4 to 2.0 and an accuracy of 0.4 to 0.5. There will be some variation due to random seeds and differences in initialization"
   ]
  },
  {
   "cell_type": "code",
   "execution_count": 12,
   "metadata": {
    "collapsed": false
   },
   "outputs": [
    {
     "name": "stdout",
     "output_type": "stream",
     "text": [
      "Training\n",
      "Iteration 0: with minibatch training loss = 3.38 and accuracy of 0.16\n",
      "Iteration 100: with minibatch training loss = 1.97 and accuracy of 0.44\n",
      "Iteration 200: with minibatch training loss = 1.63 and accuracy of 0.39\n",
      "Iteration 300: with minibatch training loss = 1.67 and accuracy of 0.5\n",
      "Iteration 400: with minibatch training loss = 1.48 and accuracy of 0.39\n",
      "Iteration 500: with minibatch training loss = 1.17 and accuracy of 0.48\n",
      "Iteration 600: with minibatch training loss = 1.3 and accuracy of 0.59\n",
      "Iteration 700: with minibatch training loss = 1.69 and accuracy of 0.5\n",
      "Epoch 1, Overall loss = 1.7 and accuracy of 0.445\n"
     ]
    },
    {
     "data": {
      "text/plain": [
       "(1.7036571007553412, 0.44497959183673469)"
      ]
     },
     "execution_count": 12,
     "metadata": {},
     "output_type": "execute_result"
    }
   ],
   "source": [
    "sess = tf.Session()\n",
    "\n",
    "sess.run(tf.global_variables_initializer())\n",
    "print('Training')\n",
    "run_model(sess,y_out,mean_loss,X_train,y_train,1,64,100,train_step)"
   ]
  },
  {
   "cell_type": "markdown",
   "metadata": {},
   "source": [
    "### Check the accuracy of the model.\n",
    "\n",
    "Let's see the train and test code in action -- feel free to use these methods when evaluating the models you develop below. You should see a loss of 1.3 to 2.0 with an accuracy of 0.45 to 0.55."
   ]
  },
  {
   "cell_type": "code",
   "execution_count": 13,
   "metadata": {
    "collapsed": false
   },
   "outputs": [
    {
     "name": "stdout",
     "output_type": "stream",
     "text": [
      "Validation\n",
      "Epoch 1, Overall loss = 1.48 and accuracy of 0.529\n"
     ]
    },
    {
     "data": {
      "text/plain": [
       "(1.4807605342864991, 0.52900000000000003)"
      ]
     },
     "execution_count": 13,
     "metadata": {},
     "output_type": "execute_result"
    }
   ],
   "source": [
    "print('Validation')\n",
    "run_model(sess,y_out,mean_loss,X_val,y_val,1,64)"
   ]
  },
  {
   "cell_type": "markdown",
   "metadata": {},
   "source": [
    "## Train a _great_ model on CIFAR-10!\n",
    "\n",
    "Now it's your job to experiment with architectures, hyperparameters, loss functions, and optimizers to train a model that achieves ** >= 70% accuracy on the validation set** of CIFAR-10. You can use the `run_model` function from above."
   ]
  },
  {
   "cell_type": "markdown",
   "metadata": {},
   "source": [
    "### Things you should try:\n",
    "- **Filter size**: Above we used 7x7; this makes pretty pictures but smaller filters may be more efficient\n",
    "- **Number of filters**: Above we used 32 filters. Do more or fewer do better?\n",
    "- **Pooling vs Strided Convolution**: Do you use max pooling or just stride convolutions?\n",
    "- **Batch normalization**: Try adding spatial batch normalization after convolution layers and vanilla batch normalization after affine layers. Do your networks train faster?\n",
    "- **Network architecture**: The network above has two layers of trainable parameters. Can you do better with a deep network? Good architectures to try include:\n",
    "    - [conv-relu-pool]xN -> [affine]xM -> [softmax or SVM]\n",
    "    - [conv-relu-conv-relu-pool]xN -> [affine]xM -> [softmax or SVM]\n",
    "    - [batchnorm-relu-conv]xN -> [affine]xM -> [softmax or SVM]\n",
    "- **Use TensorFlow Scope**: Use TensorFlow scope and/or [tf.layers](https://www.tensorflow.org/api_docs/python/tf/layers) to make it easier to write deeper networks. See [this tutorial](https://www.tensorflow.org/tutorials/layers) for how to use `tf.layers`. \n",
    "- **Use Learning Rate Decay**: [As the notes point out](http://cs231n.github.io/neural-networks-3/#anneal), decaying the learning rate might help the model converge. Feel free to decay every epoch, when loss doesn't change over an entire epoch, or any other heuristic you find appropriate. See the [Tensorflow documentation](https://www.tensorflow.org/versions/master/api_guides/python/train#Decaying_the_learning_rate) for learning rate decay.\n",
    "- **Global Average Pooling**: Instead of flattening and then having multiple affine layers, perform convolutions until your image gets small (7x7 or so) and then perform an average pooling operation to get to a 1x1 image picture (1, 1 , Filter#), which is then reshaped into a (Filter#) vector. This is used in [Google's Inception Network](https://arxiv.org/abs/1512.00567) (See Table 1 for their architecture).\n",
    "- **Regularization**: Add l2 weight regularization, or perhaps use [Dropout as in the TensorFlow MNIST tutorial](https://www.tensorflow.org/get_started/mnist/pros)\n",
    "\n",
    "### Tips for training\n",
    "For each network architecture that you try, you should tune the learning rate and regularization strength. When doing this there are a couple important things to keep in mind:\n",
    "\n",
    "- If the parameters are working well, you should see improvement within a few hundred iterations\n",
    "- Remember the coarse-to-fine approach for hyperparameter tuning: start by testing a large range of hyperparameters for just a few training iterations to find the combinations of parameters that are working at all.\n",
    "- Once you have found some sets of parameters that seem to work, search more finely around these parameters. You may need to train for more epochs.\n",
    "- You should use the validation set for hyperparameter search, and we'll save the test set for evaluating your architecture on the best parameters as selected by the validation set.\n",
    "\n",
    "### Going above and beyond\n",
    "If you are feeling adventurous there are many other features you can implement to try and improve your performance. You are **not required** to implement any of these; however they would be good things to try for extra credit.\n",
    "\n",
    "- Alternative update steps: For the assignment we implemented SGD+momentum, RMSprop, and Adam; you could try alternatives like AdaGrad or AdaDelta.\n",
    "- Alternative activation functions such as leaky ReLU, parametric ReLU, ELU, or MaxOut.\n",
    "- Model ensembles\n",
    "- Data augmentation\n",
    "- New Architectures\n",
    "  - [ResNets](https://arxiv.org/abs/1512.03385) where the input from the previous layer is added to the output.\n",
    "  - [DenseNets](https://arxiv.org/abs/1608.06993) where inputs into previous layers are concatenated together.\n",
    "  - [This blog has an in-depth overview](https://chatbotslife.com/resnets-highwaynets-and-densenets-oh-my-9bb15918ee32)\n",
    "\n",
    "If you do decide to implement something extra, clearly describe it in the \"Extra Credit Description\" cell below.\n",
    "\n",
    "### What we expect\n",
    "At the very least, you should be able to train a ConvNet that gets at **>= 70% accuracy on the validation set**. This is just a lower bound - if you are careful it should be possible to get accuracies much higher than that! Extra credit points will be awarded for particularly high-scoring models or unique approaches.\n",
    "\n",
    "You should use the space below to experiment and train your network. The final cell in this notebook should contain the training and validation set accuracies for your final trained network.\n",
    "\n",
    "Have fun and happy training!"
   ]
  },
  {
   "cell_type": "code",
   "execution_count": 14,
   "metadata": {
    "collapsed": true
   },
   "outputs": [],
   "source": [
    "def run_model_my(session, predict, loss_val, data,\n",
    "              epochs=1, batch_size=64, print_every=100,\n",
    "              training=None, plot_losses=False):\n",
    "    training_now = training is not None\n",
    "\n",
    "    if training_now:\n",
    "        Xd = data['X_train']\n",
    "        yd = data['y_train']\n",
    "    else:\n",
    "        Xd = data['X_val']\n",
    "        yd = data['y_val']\n",
    "    # have tensorflow compute accuracy\n",
    "    correct_prediction = tf.equal(tf.argmax(predict,1), y)\n",
    "    accuracy = tf.reduce_mean(tf.cast(correct_prediction, tf.float32))\n",
    "\n",
    "    # shuffle indicies\n",
    "    train_indicies = np.arange(Xd.shape[0])\n",
    "    np.random.shuffle(train_indicies)\n",
    "\n",
    "    # setting up variables we want to compute (and optimizing)\n",
    "    # if we have a training function, add that to things we compute\n",
    "    variables = [mean_loss, correct_prediction, accuracy]\n",
    "    if training_now:\n",
    "        variables[-1] = training\n",
    "\n",
    "    # counter\n",
    "    iter_cnt = 0\n",
    "    for e in range(epochs):\n",
    "        # keep track of losses and accuracy\n",
    "        correct = 0\n",
    "        losses = []\n",
    "        # make sure we iterate over the dataset once\n",
    "        num_iter = int(math.ceil(Xd.shape[0]/batch_size))\n",
    "        for i in range(num_iter):\n",
    "            # generate indicies for the batch\n",
    "            start_idx = (i*batch_size) % Xd.shape[0]  # 0, 64, 128, ...\n",
    "            idx = train_indicies[start_idx : start_idx+batch_size]\n",
    "\n",
    "            # create a feed dictionary for this batch\n",
    "            feed_dict = {X: Xd[idx,:],\n",
    "                         y: yd[idx],\n",
    "                         is_training: training_now}\n",
    "            # get batch size\n",
    "            actual_batch_size = yd[idx].shape[0]\n",
    "\n",
    "            # have tensorflow compute loss and correct predictions\n",
    "            # and (if given) perform a training step\n",
    "            loss, corr, _ = session.run(variables, feed_dict=feed_dict)\n",
    "\n",
    "            # aggregate performance stats\n",
    "            losses.append(loss*actual_batch_size)\n",
    "            correct += np.sum(corr)\n",
    "\n",
    "            # print every now and then\n",
    "            if training_now and (iter_cnt % print_every) == 0:\n",
    "                print(\"Iteration {0}/{1}: with minibatch training loss = {2:.3g} and accuracy of {3:.2g}\" \\\n",
    "                      .format(iter_cnt, epochs*num_iter, loss, np.sum(corr)/actual_batch_size))\n",
    "            iter_cnt += 1\n",
    "        total_correct = correct/Xd.shape[0]\n",
    "        total_loss = np.sum(losses)/Xd.shape[0]\n",
    "        # print statistics\n",
    "        if training_now:\n",
    "            print(\"Epoch {2}, Overall train loss = {0:.3g} and train accuracy of {1:.3g}\".format(total_loss, total_correct, e+1))\n",
    "        else:\n",
    "            print(\"Epoch {2}. [Validation or Testing]. Overall loss = {0:.3g} and accuracy of {1:.3g}\".format(total_loss, total_correct, e+1))\n",
    "\n",
    "        # val acc (call 'run_model_my recursively to calculate val loss and val acc)\n",
    "        if training_now:\n",
    "            # keep tracking the val acc on every epoch\n",
    "            val_loss, val_correct = run_model_my(session=sess, predict=y_out, loss_val=mean_loss, data=data_train_val, epochs=1, batch_size=64,\n",
    "                                                 print_every=20, training=None, plot_losses=False)\n",
    "            #print(\"Epoch {0}, Overall val loss = {1:.3g} and val accuracy of {2:.3g}\".format(e+1, val_loss, val_correct))\n",
    "\n",
    "        if plot_losses:\n",
    "            plt.plot(losses)\n",
    "            plt.grid(True)\n",
    "            plt.title('Epoch {} Loss'.format(e+1))\n",
    "            plt.xlabel('minibatch number')\n",
    "            plt.ylabel('minibatch loss')\n",
    "            plt.show()\n",
    "    return total_loss,total_correct"
   ]
  },
  {
   "cell_type": "code",
   "execution_count": 16,
   "metadata": {
    "collapsed": false
   },
   "outputs": [],
   "source": [
    "# Feel free to play with this cell\n",
    "\n",
    "# Model: {conv1 - [spatial batch norm] - relu - pool_2x2} x K - conv2 - relu - {affine - [batch norm]} x L - {softmax or SVM}\n",
    "def my_model1(X, y, is_training, input_dim=(3, 32, 32), use_batchnorm=True, K_params={'num_filters':[16,32]}, num_filters=32,\n",
    "              L_params={'hidden_dims':[100,100,10]}, filter_size=3, num_classes=10):\n",
    "\n",
    "    K = K_params['num_filters']\n",
    "    L = L_params['hidden_dims']\n",
    "    C, H, W = input_dim  # (C, H, W)\n",
    "    HH, WW = filter_size, filter_size\n",
    "    params = {}\n",
    "\n",
    "    conv_param = {'stride': 1, 'pad': (filter_size - 1) // 2}  #  identical for both - conv1 and conv2\n",
    "    pool_param = {'pool_height': 2, 'pool_width': 2, 'stride': 2}\n",
    "\n",
    "    for k in range(len(K)):\n",
    "        F = K[k]\n",
    "        C = C if k == 0 else K[k-1]  # for K=0 we take C from input, for remaining K: C is equal to F on previous layer\n",
    "\n",
    "        params['Wk_%d' % (k+1)] = tf.get_variable('Wk_%d'%(k+1), shape=[HH, WW, C, F])  # which initializer to pass? shape: (HH, WW, C, F)\n",
    "        params['bk_%d' % (k+1)] = tf.get_variable('bk_%d'%(k+1), shape=[F], initializer=tf.zeros_initializer())\n",
    "\n",
    "        # Figure out the output dimension for K-th layer\n",
    "        H = H if k == 0 else H_pool\n",
    "        H_conv = 1 + (H + 2 * conv_param['pad'] - HH) // conv_param['stride']\n",
    "        # W_conv = H_conv\n",
    "        H_pool = 1 + (H_conv - pool_param['pool_height']) // pool_param['stride']\n",
    "        # W_pool = H_pool\n",
    "\n",
    "    # W and b for conv2 layer\n",
    "    F = num_filters\n",
    "    C = K[k]  # C equals to num of filters (F) on the prev layer\n",
    "    # {conv1 - [spatial batch norm] - relu - pool_2x2} x K - conv2 - relu2 - {affine - [batch norm]} x L - {softmax or SVM}\n",
    "    params['W2'] = tf.get_variable('W2', shape=[HH, WW, C, F])  # which initializer to pass? shape: (HH, WW, C, F)\n",
    "    params['b2'] = tf.get_variable('b2', shape=[F], initializer=tf.zeros_initializer())\n",
    "\n",
    "    H_conv = 1 + (H_pool + 2 * conv_param['pad'] - HH) // conv_param['stride']\n",
    "    # W_conv = H_conv\n",
    "\n",
    "    # W and b for the affine layer L\n",
    "    C, H, W = F, H_conv, H_conv\n",
    "    for l in range(len(L)):\n",
    "        D = C*H*W if l == 0 else L[l-1]  # for the first affine layer: X(N, D) = X (N, d1*d2*...*dD) = X (N, C*H*W)\n",
    "        M = L[l] if l < len(L)-1 else num_classes\n",
    "        params['Wl_%d'%(l+1)] = tf.get_variable('Wl_%d'%(l+1), shape=[D, M])  # which initializer to pass?\n",
    "        params['bl_%d'%(l+1)] = tf.get_variable('bl_%d'%(l+1), shape=[M], initializer=tf.zeros_initializer())\n",
    "\n",
    "    # Define graph (forward pass)\n",
    "    # {conv1 - [spatial batch norm] - relu - pool_2x2} x K - conv2 - relu2 - {affine - [batch norm]} x L - {softmax or SVM}\n",
    "    # Input X shape (N, H, W, C) = (64, 32, 32, 3)\n",
    "    # K layers\n",
    "    pool = X\n",
    "    for k in range(len(K)):\n",
    "        Wk = params['Wk_%d' % (k+1)]  # Get updated parameters Wk, bk (after the previous train step)\n",
    "        bk = params['bk_%d' % (k+1)]\n",
    "        conv1 = tf.nn.conv2d(input=pool, filter=Wk, strides=[1,1,1,1], padding='SAME', name='conv1%d'%(k)) + bk  # (N, Hconv, Wconv, C) (150, 32, 32, 32)\n",
    "\n",
    "        if use_batchnorm:\n",
    "            conv1 = tf.layers.batch_normalization(inputs=conv1, training=is_training, name='conv1%d'%(k))\n",
    "\n",
    "        relu = tf.nn.relu(features=conv1, name='relu%d'%(k))  # (150, 32, 32, 32)\n",
    "        pool = tf.nn.max_pool(value=relu, ksize=[1,2,2,1], strides=[1,2,2,1], padding='VALID', name='pool%d'%(k))  # (N, Hpool, Wpool, F) = (150, 16, 16, 32)\n",
    "\n",
    "    # conv2 - relu2\n",
    "    conv2 = tf.nn.conv2d(pool, params['W2'], strides=[1,1,1,1], padding='SAME') + params['b2']  # (N, Hconv, Wconv, C) (150, 8, 8, 3)\n",
    "    relu2 =  tf.nn.relu(conv2)  # (150, 3, 8, 8)\n",
    "\n",
    "    # L layers\n",
    "    a1 = relu2\n",
    "    for l in range(len(L)):\n",
    "        Wl = params['Wl_%d' % (l+1)]\n",
    "        bl = params['bl_%d' % (l+1)]\n",
    "        a1_flat = tf.reshape(a1, [-1, int(Wl.value().shape[0])], name='a1flat%d'%(l))  # (N, D) = (150, 16*16*32)\n",
    "        a1 = tf.matmul(a1_flat, Wl, name='a1%d'%(k)) + bl  # affine layer  (N, hidden_dim) = (64, 1024)\n",
    "        if use_batchnorm:\n",
    "            a1 = tf.layers.batch_normalization(inputs=a1, training=is_training, name='a1%d'%(l))\n",
    "\n",
    "        y_out = a1\n",
    "\n",
    "    return y_out\n",
    "\n",
    "\n",
    "tf.reset_default_graph()\n",
    "\n",
    "\n",
    "N, H, W, C = X_train.shape\n",
    "\n",
    "X = tf.placeholder(tf.float32, [None, 32, 32, 3])\n",
    "y = tf.placeholder(tf.int64, [None])\n",
    "is_training = tf.placeholder(tf.bool)\n",
    "\n",
    "y_out = my_model1(X,y,is_training,input_dim=(C, H, W), use_batchnorm=True, K_params={'num_filters':[16,32]}, num_filters=32,\n",
    "                  L_params={'hidden_dims':[100,100,10]}, filter_size=3, num_classes=10)\n",
    "\n",
    "mean_loss = None\n",
    "optimizer = None\n",
    "\n",
    "# define loss\n",
    "total_loss = tf.losses.softmax_cross_entropy(onehot_labels=tf.one_hot(y,10), logits=y_out)  # hinge_loss(tf.one_hot(y,10),logits=y_out)\n",
    "mean_loss = tf.reduce_mean(total_loss)\n",
    "\n",
    "# define optimizer\n",
    "optimizer = tf.train.RMSPropOptimizer(learning_rate=1e-3, decay=0.9)  # AdamOptimizer(5e-4) # select optimizer and set learning rate\n",
    "\n",
    "# batch normalization in tensorflow requires this extra dependency\n",
    "extra_update_ops = tf.get_collection(tf.GraphKeys.UPDATE_OPS)\n",
    "with tf.control_dependencies(extra_update_ops):\n",
    "    train_step = optimizer.minimize(mean_loss)"
   ]
  },
  {
   "cell_type": "code",
   "execution_count": 18,
   "metadata": {
    "collapsed": false
   },
   "outputs": [
    {
     "name": "stdout",
     "output_type": "stream",
     "text": [
      "Iteration 0/3830: with minibatch training loss = 2.78 and accuracy of 0.14\n",
      "Iteration 20/3830: with minibatch training loss = 2.54 and accuracy of 0.2\n",
      "Iteration 40/3830: with minibatch training loss = 2.1 and accuracy of 0.27\n",
      "Iteration 60/3830: with minibatch training loss = 2.02 and accuracy of 0.3\n",
      "Iteration 80/3830: with minibatch training loss = 1.65 and accuracy of 0.45\n",
      "Iteration 100/3830: with minibatch training loss = 1.62 and accuracy of 0.44\n",
      "Iteration 120/3830: with minibatch training loss = 1.7 and accuracy of 0.47\n",
      "Iteration 140/3830: with minibatch training loss = 1.53 and accuracy of 0.55\n",
      "Iteration 160/3830: with minibatch training loss = 1.36 and accuracy of 0.58\n",
      "Iteration 180/3830: with minibatch training loss = 1.68 and accuracy of 0.39\n",
      "Iteration 200/3830: with minibatch training loss = 1.55 and accuracy of 0.47\n",
      "Iteration 220/3830: with minibatch training loss = 1.5 and accuracy of 0.53\n",
      "Iteration 240/3830: with minibatch training loss = 1.42 and accuracy of 0.52\n",
      "Iteration 260/3830: with minibatch training loss = 1.53 and accuracy of 0.45\n",
      "Iteration 280/3830: with minibatch training loss = 1.52 and accuracy of 0.47\n",
      "Iteration 300/3830: with minibatch training loss = 1.48 and accuracy of 0.48\n",
      "Iteration 320/3830: with minibatch training loss = 1.32 and accuracy of 0.56\n",
      "Iteration 340/3830: with minibatch training loss = 1.27 and accuracy of 0.59\n",
      "Iteration 360/3830: with minibatch training loss = 1.31 and accuracy of 0.58\n",
      "Iteration 380/3830: with minibatch training loss = 1.23 and accuracy of 0.62\n",
      "Iteration 400/3830: with minibatch training loss = 1.2 and accuracy of 0.64\n",
      "Iteration 420/3830: with minibatch training loss = 1.28 and accuracy of 0.53\n",
      "Iteration 440/3830: with minibatch training loss = 1.26 and accuracy of 0.56\n",
      "Iteration 460/3830: with minibatch training loss = 1.29 and accuracy of 0.55\n",
      "Iteration 480/3830: with minibatch training loss = 1.33 and accuracy of 0.55\n",
      "Iteration 500/3830: with minibatch training loss = 1.34 and accuracy of 0.56\n",
      "Iteration 520/3830: with minibatch training loss = 1.12 and accuracy of 0.64\n",
      "Iteration 540/3830: with minibatch training loss = 1.23 and accuracy of 0.56\n",
      "Iteration 560/3830: with minibatch training loss = 1.1 and accuracy of 0.64\n",
      "Iteration 580/3830: with minibatch training loss = 1.24 and accuracy of 0.64\n",
      "Iteration 600/3830: with minibatch training loss = 1.2 and accuracy of 0.56\n",
      "Iteration 620/3830: with minibatch training loss = 1.28 and accuracy of 0.55\n",
      "Iteration 640/3830: with minibatch training loss = 1.32 and accuracy of 0.52\n",
      "Iteration 660/3830: with minibatch training loss = 1.13 and accuracy of 0.62\n",
      "Iteration 680/3830: with minibatch training loss = 1.22 and accuracy of 0.53\n",
      "Iteration 700/3830: with minibatch training loss = 1.12 and accuracy of 0.58\n",
      "Iteration 720/3830: with minibatch training loss = 1.17 and accuracy of 0.62\n",
      "Iteration 740/3830: with minibatch training loss = 1.25 and accuracy of 0.55\n",
      "Iteration 760/3830: with minibatch training loss = 1.07 and accuracy of 0.67\n",
      "Epoch 1, Overall train loss = 1.42 and train accuracy of 0.526\n",
      "Epoch 1. [Validation or Testing]. Overall loss = 1.15 and accuracy of 0.614\n"
     ]
    },
    {
     "data": {
      "image/png": "[encoded data removed]",
      "text/plain": [
       "<matplotlib.figure.Figure at 0x7f2a1c249668>"
      ]
     },
     "metadata": {},
     "output_type": "display_data"
    },
    {
     "name": "stdout",
     "output_type": "stream",
     "text": [
      "Iteration 780/3830: with minibatch training loss = 1.09 and accuracy of 0.69\n",
      "Iteration 800/3830: with minibatch training loss = 1.11 and accuracy of 0.59\n",
      "Iteration 820/3830: with minibatch training loss = 1.13 and accuracy of 0.64\n",
      "Iteration 840/3830: with minibatch training loss = 0.974 and accuracy of 0.8\n",
      "Iteration 860/3830: with minibatch training loss = 1.13 and accuracy of 0.72\n",
      "Iteration 880/3830: with minibatch training loss = 1.14 and accuracy of 0.58\n",
      "Iteration 900/3830: with minibatch training loss = 1.28 and accuracy of 0.53\n",
      "Iteration 920/3830: with minibatch training loss = 1.03 and accuracy of 0.7\n",
      "Iteration 940/3830: with minibatch training loss = 1.02 and accuracy of 0.62\n",
      "Iteration 960/3830: with minibatch training loss = 1.05 and accuracy of 0.62\n",
      "Iteration 980/3830: with minibatch training loss = 1.02 and accuracy of 0.66\n",
      "Iteration 1000/3830: with minibatch training loss = 0.874 and accuracy of 0.7\n",
      "Iteration 1020/3830: with minibatch training loss = 1.2 and accuracy of 0.59\n",
      "Iteration 1040/3830: with minibatch training loss = 1.33 and accuracy of 0.48\n",
      "Iteration 1060/3830: with minibatch training loss = 0.843 and accuracy of 0.67\n",
      "Iteration 1080/3830: with minibatch training loss = 0.984 and accuracy of 0.67\n",
      "Iteration 1100/3830: with minibatch training loss = 1.27 and accuracy of 0.61\n",
      "Iteration 1120/3830: with minibatch training loss = 0.984 and accuracy of 0.69\n",
      "Iteration 1140/3830: with minibatch training loss = 0.845 and accuracy of 0.8\n",
      "Iteration 1160/3830: with minibatch training loss = 0.873 and accuracy of 0.72\n",
      "Iteration 1180/3830: with minibatch training loss = 1.04 and accuracy of 0.64\n",
      "Iteration 1200/3830: with minibatch training loss = 1.01 and accuracy of 0.62\n",
      "Iteration 1220/3830: with minibatch training loss = 0.962 and accuracy of 0.7\n",
      "Iteration 1240/3830: with minibatch training loss = 0.918 and accuracy of 0.72\n",
      "Iteration 1260/3830: with minibatch training loss = 0.902 and accuracy of 0.72\n",
      "Iteration 1280/3830: with minibatch training loss = 0.938 and accuracy of 0.7\n",
      "Iteration 1300/3830: with minibatch training loss = 0.982 and accuracy of 0.66\n",
      "Iteration 1320/3830: with minibatch training loss = 1.05 and accuracy of 0.64\n",
      "Iteration 1340/3830: with minibatch training loss = 0.912 and accuracy of 0.69\n",
      "Iteration 1360/3830: with minibatch training loss = 0.897 and accuracy of 0.72\n",
      "Iteration 1380/3830: with minibatch training loss = 0.831 and accuracy of 0.72\n",
      "Iteration 1400/3830: with minibatch training loss = 0.94 and accuracy of 0.64\n",
      "Iteration 1420/3830: with minibatch training loss = 0.817 and accuracy of 0.75\n",
      "Iteration 1440/3830: with minibatch training loss = 0.991 and accuracy of 0.66\n",
      "Iteration 1460/3830: with minibatch training loss = 1.1 and accuracy of 0.59\n",
      "Iteration 1480/3830: with minibatch training loss = 1.1 and accuracy of 0.7\n",
      "Iteration 1500/3830: with minibatch training loss = 1.07 and accuracy of 0.64\n",
      "Iteration 1520/3830: with minibatch training loss = 1.06 and accuracy of 0.61\n",
      "Epoch 2, Overall train loss = 1.03 and train accuracy of 0.663\n",
      "Epoch 1. [Validation or Testing]. Overall loss = 1.01 and accuracy of 0.663\n"
     ]
    },
    {
     "data": {
      "image/png": "[encoded data removed]",
      "text/plain": [
       "<matplotlib.figure.Figure at 0x7f2a7467cc18>"
      ]
     },
     "metadata": {},
     "output_type": "display_data"
    },
    {
     "name": "stdout",
     "output_type": "stream",
     "text": [
      "Iteration 1540/3830: with minibatch training loss = 1.16 and accuracy of 0.59\n",
      "Iteration 1560/3830: with minibatch training loss = 1.03 and accuracy of 0.61\n",
      "Iteration 1580/3830: with minibatch training loss = 1.18 and accuracy of 0.61\n",
      "Iteration 1600/3830: with minibatch training loss = 1.05 and accuracy of 0.61\n",
      "Iteration 1620/3830: with minibatch training loss = 0.971 and accuracy of 0.69\n",
      "Iteration 1640/3830: with minibatch training loss = 0.882 and accuracy of 0.72\n",
      "Iteration 1660/3830: with minibatch training loss = 0.986 and accuracy of 0.7\n",
      "Iteration 1680/3830: with minibatch training loss = 0.834 and accuracy of 0.77\n",
      "Iteration 1700/3830: with minibatch training loss = 0.958 and accuracy of 0.72\n",
      "Iteration 1720/3830: with minibatch training loss = 0.772 and accuracy of 0.69\n",
      "Iteration 1740/3830: with minibatch training loss = 0.818 and accuracy of 0.78\n",
      "Iteration 1760/3830: with minibatch training loss = 0.985 and accuracy of 0.7\n",
      "Iteration 1780/3830: with minibatch training loss = 0.978 and accuracy of 0.67\n",
      "Iteration 1800/3830: with minibatch training loss = 0.907 and accuracy of 0.66\n",
      "Iteration 1820/3830: with minibatch training loss = 0.872 and accuracy of 0.72\n",
      "Iteration 1840/3830: with minibatch training loss = 0.852 and accuracy of 0.73\n",
      "Iteration 1860/3830: with minibatch training loss = 0.835 and accuracy of 0.69\n",
      "Iteration 1880/3830: with minibatch training loss = 0.966 and accuracy of 0.67\n",
      "Iteration 1900/3830: with minibatch training loss = 1.02 and accuracy of 0.66\n",
      "Iteration 1920/3830: with minibatch training loss = 0.913 and accuracy of 0.66\n",
      "Iteration 1940/3830: with minibatch training loss = 0.976 and accuracy of 0.56\n",
      "Iteration 1960/3830: with minibatch training loss = 0.766 and accuracy of 0.73\n",
      "Iteration 1980/3830: with minibatch training loss = 0.783 and accuracy of 0.75\n",
      "Iteration 2000/3830: with minibatch training loss = 0.67 and accuracy of 0.8\n",
      "Iteration 2020/3830: with minibatch training loss = 0.977 and accuracy of 0.7\n",
      "Iteration 2040/3830: with minibatch training loss = 0.986 and accuracy of 0.7\n",
      "Iteration 2060/3830: with minibatch training loss = 0.945 and accuracy of 0.72\n",
      "Iteration 2080/3830: with minibatch training loss = 0.881 and accuracy of 0.78\n",
      "Iteration 2100/3830: with minibatch training loss = 0.788 and accuracy of 0.75\n",
      "Iteration 2120/3830: with minibatch training loss = 0.908 and accuracy of 0.72\n",
      "Iteration 2140/3830: with minibatch training loss = 0.912 and accuracy of 0.7\n",
      "Iteration 2160/3830: with minibatch training loss = 0.934 and accuracy of 0.66\n",
      "Iteration 2180/3830: with minibatch training loss = 0.954 and accuracy of 0.66\n",
      "Iteration 2200/3830: with minibatch training loss = 0.978 and accuracy of 0.62\n",
      "Iteration 2220/3830: with minibatch training loss = 0.721 and accuracy of 0.77\n",
      "Iteration 2240/3830: with minibatch training loss = 0.893 and accuracy of 0.69\n",
      "Iteration 2260/3830: with minibatch training loss = 0.855 and accuracy of 0.67\n",
      "Iteration 2280/3830: with minibatch training loss = 0.757 and accuracy of 0.77\n",
      "Epoch 3, Overall train loss = 0.894 and train accuracy of 0.706\n",
      "Epoch 1. [Validation or Testing]. Overall loss = 0.915 and accuracy of 0.692\n"
     ]
    },
    {
     "data": {
      "image/png": "[encoded data removed]",
      "text/plain": [
       "<matplotlib.figure.Figure at 0x7f2a1c1f9240>"
      ]
     },
     "metadata": {},
     "output_type": "display_data"
    },
    {
     "name": "stdout",
     "output_type": "stream",
     "text": [
      "Iteration 2300/3830: with minibatch training loss = 0.933 and accuracy of 0.66\n",
      "Iteration 2320/3830: with minibatch training loss = 0.926 and accuracy of 0.7\n",
      "Iteration 2340/3830: with minibatch training loss = 0.909 and accuracy of 0.69\n",
      "Iteration 2360/3830: with minibatch training loss = 0.976 and accuracy of 0.67\n",
      "Iteration 2380/3830: with minibatch training loss = 0.728 and accuracy of 0.8\n",
      "Iteration 2400/3830: with minibatch training loss = 0.88 and accuracy of 0.7\n",
      "Iteration 2420/3830: with minibatch training loss = 0.88 and accuracy of 0.67\n",
      "Iteration 2440/3830: with minibatch training loss = 0.79 and accuracy of 0.8\n",
      "Iteration 2460/3830: with minibatch training loss = 0.889 and accuracy of 0.73\n",
      "Iteration 2480/3830: with minibatch training loss = 0.836 and accuracy of 0.67\n",
      "Iteration 2500/3830: with minibatch training loss = 0.711 and accuracy of 0.75\n",
      "Iteration 2520/3830: with minibatch training loss = 1.03 and accuracy of 0.62\n",
      "Iteration 2540/3830: with minibatch training loss = 0.882 and accuracy of 0.64\n",
      "Iteration 2560/3830: with minibatch training loss = 0.806 and accuracy of 0.67\n",
      "Iteration 2580/3830: with minibatch training loss = 0.945 and accuracy of 0.72\n",
      "Iteration 2600/3830: with minibatch training loss = 0.904 and accuracy of 0.62\n",
      "Iteration 2620/3830: with minibatch training loss = 0.701 and accuracy of 0.72\n",
      "Iteration 2640/3830: with minibatch training loss = 0.905 and accuracy of 0.7\n",
      "Iteration 2660/3830: with minibatch training loss = 1 and accuracy of 0.69\n",
      "Iteration 2680/3830: with minibatch training loss = 0.75 and accuracy of 0.75\n",
      "Iteration 2700/3830: with minibatch training loss = 0.879 and accuracy of 0.73\n",
      "Iteration 2720/3830: with minibatch training loss = 1.04 and accuracy of 0.66\n",
      "Iteration 2740/3830: with minibatch training loss = 0.56 and accuracy of 0.8\n",
      "Iteration 2760/3830: with minibatch training loss = 0.839 and accuracy of 0.8\n",
      "Iteration 2780/3830: with minibatch training loss = 0.685 and accuracy of 0.81\n",
      "Iteration 2800/3830: with minibatch training loss = 0.85 and accuracy of 0.69\n",
      "Iteration 2820/3830: with minibatch training loss = 0.969 and accuracy of 0.67\n",
      "Iteration 2840/3830: with minibatch training loss = 0.774 and accuracy of 0.7\n",
      "Iteration 2860/3830: with minibatch training loss = 0.656 and accuracy of 0.78\n",
      "Iteration 2880/3830: with minibatch training loss = 0.645 and accuracy of 0.75\n",
      "Iteration 2900/3830: with minibatch training loss = 0.789 and accuracy of 0.75\n",
      "Iteration 2920/3830: with minibatch training loss = 0.86 and accuracy of 0.7\n",
      "Iteration 2940/3830: with minibatch training loss = 0.797 and accuracy of 0.72\n",
      "Iteration 2960/3830: with minibatch training loss = 0.924 and accuracy of 0.73\n",
      "Iteration 2980/3830: with minibatch training loss = 0.818 and accuracy of 0.72\n",
      "Iteration 3000/3830: with minibatch training loss = 0.807 and accuracy of 0.75\n",
      "Iteration 3020/3830: with minibatch training loss = 0.844 and accuracy of 0.69\n",
      "Iteration 3040/3830: with minibatch training loss = 0.757 and accuracy of 0.77\n",
      "Iteration 3060/3830: with minibatch training loss = 0.739 and accuracy of 0.75\n",
      "Epoch 4, Overall train loss = 0.81 and train accuracy of 0.731\n",
      "Epoch 1. [Validation or Testing]. Overall loss = 0.886 and accuracy of 0.702\n"
     ]
    },
    {
     "data": {
      "image/png": "[encoded data removed]",
      "text/plain": [
       "<matplotlib.figure.Figure at 0x7f2a156b0748>"
      ]
     },
     "metadata": {},
     "output_type": "display_data"
    },
    {
     "name": "stdout",
     "output_type": "stream",
     "text": [
      "Iteration 3080/3830: with minibatch training loss = 0.699 and accuracy of 0.75\n",
      "Iteration 3100/3830: with minibatch training loss = 0.708 and accuracy of 0.78\n",
      "Iteration 3120/3830: with minibatch training loss = 1.04 and accuracy of 0.62\n",
      "Iteration 3140/3830: with minibatch training loss = 0.805 and accuracy of 0.72\n",
      "Iteration 3160/3830: with minibatch training loss = 0.584 and accuracy of 0.83\n",
      "Iteration 3180/3830: with minibatch training loss = 0.844 and accuracy of 0.69\n",
      "Iteration 3200/3830: with minibatch training loss = 0.814 and accuracy of 0.7\n",
      "Iteration 3220/3830: with minibatch training loss = 0.698 and accuracy of 0.7\n",
      "Iteration 3240/3830: with minibatch training loss = 0.707 and accuracy of 0.75\n",
      "Iteration 3260/3830: with minibatch training loss = 0.786 and accuracy of 0.7\n",
      "Iteration 3280/3830: with minibatch training loss = 0.835 and accuracy of 0.66\n",
      "Iteration 3300/3830: with minibatch training loss = 0.769 and accuracy of 0.73\n",
      "Iteration 3320/3830: with minibatch training loss = 0.788 and accuracy of 0.73\n",
      "Iteration 3340/3830: with minibatch training loss = 0.758 and accuracy of 0.8\n",
      "Iteration 3360/3830: with minibatch training loss = 1.01 and accuracy of 0.66\n",
      "Iteration 3380/3830: with minibatch training loss = 0.956 and accuracy of 0.7\n",
      "Iteration 3400/3830: with minibatch training loss = 0.571 and accuracy of 0.86\n",
      "Iteration 3420/3830: with minibatch training loss = 0.783 and accuracy of 0.7\n",
      "Iteration 3440/3830: with minibatch training loss = 0.801 and accuracy of 0.8\n",
      "Iteration 3460/3830: with minibatch training loss = 0.754 and accuracy of 0.77\n",
      "Iteration 3480/3830: with minibatch training loss = 0.876 and accuracy of 0.67\n",
      "Iteration 3500/3830: with minibatch training loss = 0.702 and accuracy of 0.77\n",
      "Iteration 3520/3830: with minibatch training loss = 0.729 and accuracy of 0.75\n",
      "Iteration 3540/3830: with minibatch training loss = 0.826 and accuracy of 0.73\n",
      "Iteration 3560/3830: with minibatch training loss = 0.766 and accuracy of 0.7\n",
      "Iteration 3580/3830: with minibatch training loss = 0.735 and accuracy of 0.8\n",
      "Iteration 3600/3830: with minibatch training loss = 0.681 and accuracy of 0.75\n",
      "Iteration 3620/3830: with minibatch training loss = 0.916 and accuracy of 0.7\n",
      "Iteration 3640/3830: with minibatch training loss = 0.677 and accuracy of 0.8\n",
      "Iteration 3660/3830: with minibatch training loss = 0.657 and accuracy of 0.81\n",
      "Iteration 3680/3830: with minibatch training loss = 0.751 and accuracy of 0.73\n",
      "Iteration 3700/3830: with minibatch training loss = 1.02 and accuracy of 0.69\n",
      "Iteration 3720/3830: with minibatch training loss = 0.771 and accuracy of 0.77\n",
      "Iteration 3740/3830: with minibatch training loss = 0.52 and accuracy of 0.91\n",
      "Iteration 3760/3830: with minibatch training loss = 0.631 and accuracy of 0.8\n",
      "Iteration 3780/3830: with minibatch training loss = 0.954 and accuracy of 0.64\n",
      "Iteration 3800/3830: with minibatch training loss = 0.63 and accuracy of 0.78\n",
      "Iteration 3820/3830: with minibatch training loss = 0.794 and accuracy of 0.77\n",
      "Epoch 5, Overall train loss = 0.75 and train accuracy of 0.749\n",
      "Epoch 1. [Validation or Testing]. Overall loss = 0.877 and accuracy of 0.697\n"
     ]
    },
    {
     "data": {
      "image/png": "[encoded data removed]",
      "text/plain": [
       "<matplotlib.figure.Figure at 0x7f2a15726a90>"
      ]
     },
     "metadata": {},
     "output_type": "display_data"
    },
    {
     "data": {
      "text/plain": [
       "(0.75024748887821124, 0.74883673469387757)"
      ]
     },
     "execution_count": 18,
     "metadata": {},
     "output_type": "execute_result"
    }
   ],
   "source": [
    "# Feel free to play with this cell\n",
    "# This default code creates a session\n",
    "# and trains your model for 10 epochs\n",
    "# then prints the validation set accuracy\n",
    "sess = tf.Session()\n",
    "\n",
    "sess.run(tf.global_variables_initializer())\n",
    "\n",
    "\n",
    "data_train_val = dict({'X_train': X_train,\n",
    "                    'y_train': y_train,\n",
    "                    'X_val': X_val,\n",
    "                    'y_val': y_val})\n",
    "run_model_my(session=sess, predict=y_out, loss_val=mean_loss, data=data_train_val, epochs=5, batch_size=64,\n",
    "             print_every=20, training=train_step, plot_losses=True)  # 49000/64 = 766 iterations per epoch"
   ]
  },
  {
   "cell_type": "code",
   "execution_count": 19,
   "metadata": {
    "collapsed": false
   },
   "outputs": [
    {
     "name": "stdout",
     "output_type": "stream",
     "text": [
      "Training\n",
      "Epoch 1. [Validation or Testing]. Overall loss = 0.69 and accuracy of 0.766\n",
      "Validation\n",
      "Epoch 1. [Validation or Testing]. Overall loss = 0.877 and accuracy of 0.697\n",
      "Test\n",
      "Epoch 1. [Validation or Testing]. Overall loss = 0.875 and accuracy of 0.703\n"
     ]
    },
    {
     "data": {
      "text/plain": [
       "(0.87538931550979615, 0.70330000000000004)"
      ]
     },
     "execution_count": 19,
     "metadata": {},
     "output_type": "execute_result"
    }
   ],
   "source": [
    "# Test your model here, and make sure \n",
    "# the output of this cell is the accuracy\n",
    "# of your best model on the training and val sets\n",
    "# We're looking for >= 70% accuracy on Validation\n",
    "print('Training')\n",
    "run_model_my(sess, y_out, mean_loss, {'X_val': X_train, 'y_val': y_train}, 1, 64, training=None)  # since training None we pass X_train as x_val\n",
    "print('Validation')\n",
    "run_model_my(sess, y_out, mean_loss, {'X_val': X_val, 'y_val': y_val}, 1, 64, training=None)"
   ]
  },
  {
   "cell_type": "markdown",
   "metadata": {},
   "source": [
    "### Describe what you did here\n",
    "In this cell you should also write an explanation of what you did, any additional features that you implemented, and any visualizations or graphs that you make in the process of training and evaluating your network"
   ]
  },
  {
   "cell_type": "markdown",
   "metadata": {},
   "source": [
    "_Tell us here_"
   ]
  },
  {
   "cell_type": "markdown",
   "metadata": {},
   "source": [
    "### Test Set - Do this only once\n",
    "Now that we've gotten a result that we're happy with, we test our final model on the test set. This would be the score we would achieve on a competition. Think about how this compares to your validation set accuracy."
   ]
  },
  {
   "cell_type": "code",
   "execution_count": 20,
   "metadata": {
    "collapsed": false
   },
   "outputs": [
    {
     "name": "stdout",
     "output_type": "stream",
     "text": [
      "Test\n",
      "Epoch 1. [Validation or Testing]. Overall loss = 0.875 and accuracy of 0.703\n"
     ]
    },
    {
     "data": {
      "text/plain": [
       "(0.87538930969238282, 0.70330000000000004)"
      ]
     },
     "execution_count": 20,
     "metadata": {},
     "output_type": "execute_result"
    }
   ],
   "source": [
    "print('Test')\n",
    "run_model_my(sess, y_out, mean_loss, {'X_val': X_test, 'y_val': y_test}, 1, 64, training=None)"
   ]
  },
  {
   "cell_type": "markdown",
   "metadata": {},
   "source": [
    "## Going further with TensorFlow\n",
    "\n",
    "The next assignment will make heavy use of TensorFlow. You might also find it useful for your projects. \n"
   ]
  },
  {
   "cell_type": "markdown",
   "metadata": {},
   "source": [
    "# Extra Credit Description\n",
    "If you implement any additional features for extra credit, clearly describe them here with pointers to any code in this or other files if applicable."
   ]
  }
 ],
 "metadata": {
  "kernelspec": {
   "display_name": "Python 3",
   "language": "python",
   "name": "python3"
  },
  "language_info": {
   "codemirror_mode": {
    "name": "ipython",
    "version": 3
   },
   "file_extension": ".py",
   "mimetype": "text/x-python",
   "name": "python",
   "nbconvert_exporter": "python",
   "pygments_lexer": "ipython3",
   "version": "3.4.3"
  }
 },
 "nbformat": 4,
 "nbformat_minor": 1
}
